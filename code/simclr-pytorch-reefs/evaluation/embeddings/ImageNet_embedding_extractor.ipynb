{
 "cells": [
  {
   "cell_type": "markdown",
   "metadata": {},
   "source": [
    "# Extract embeddings, PCA\n",
    "\n",
    "May need to restart kernel for each dataset if worker error"
   ]
  },
  {
   "cell_type": "code",
   "execution_count": 1,
   "metadata": {},
   "outputs": [],
   "source": [
    "import torch\n",
    "import torch.nn as nn\n",
    "import torchvision.models as models\n",
    "from torch.utils.data import DataLoader\n",
    "import pandas as pd\n",
    "\n",
    "# import my_custom_dataset_eval from \n",
    "import sys\n",
    "sys.path.append('/home/ben/reef-audio-representation-learning/code/simclr-pytorch-reefs/evaluation/')\n",
    "from my_custom_dataset_eval import CTDataset_test"
   ]
  },
  {
   "cell_type": "code",
   "execution_count": 2,
   "metadata": {},
   "outputs": [],
   "source": [
    "starting_weights = \"/home/ben/reef-audio-representation-learning/code/simclr-pytorch-reefs/logs/exman-train.py/runs/baseline/checkpoint-5100.pth.tar\"\n",
    "\n",
    "cfg = {'starting_weights': starting_weights, 'finetune': False,\n",
    "       'data_path': '/mnt/ssd-cluster/ben/data/full_dataset/', \n",
    "       'json_path': '/home/ben/reef-audio-representation-learning/data/dataset.json',\n",
    "       'test_dataset': 'test_bermuda',#######################\n",
    "       'num_classes': 7, #####################\n",
    "       'num_workers':4} "
   ]
  },
  {
   "cell_type": "markdown",
   "metadata": {},
   "source": [
    "### Load model"
   ]
  },
  {
   "cell_type": "code",
   "execution_count": 3,
   "metadata": {},
   "outputs": [],
   "source": [
    "\n",
    "class CustomResNet50(nn.Module):\n",
    "\n",
    "    def __init__(self, num_classes):\n",
    "        '''\n",
    "            Constructor of the model. Here, we initialize the model's\n",
    "            architecture (layers).\n",
    "        '''\n",
    "        super(CustomResNet50, self).__init__()\n",
    "\n",
    "        self.feature_extractor = resnet.resnet50(pretrained=True)       # \"pretrained\": use weights pre-trained on ImageNet\n",
    "\n",
    "        # replace the very last layer from the original, 1000-class output\n",
    "        # ImageNet to a new one that outputs num_classes\n",
    "        last_layer = self.feature_extractor.fc                          # tip: print(self.feature_extractor) to get info on how model is set up\n",
    "        in_features = last_layer.in_features                            # number of input dimensions to last (classifier) layer\n",
    "        self.feature_extractor.fc = nn.Identity()                       # discard last layer...\n",
    "\n",
    "        self.classifier = nn.Linear(in_features, num_classes)           # ...and create a new one\n",
    "    \n",
    "\n",
    "    def forward(self, x):\n",
    "        '''\n",
    "            Forward pass. Here, we define how to apply our model. It's basically\n",
    "            applying our modified ResNet-18 on the input tensor (\"x\") and then\n",
    "            apply the final classifier layer on the ResNet-18 output to get our\n",
    "            num_classes prediction.\n",
    "        '''\n",
    "        # x.size(): [B x 3 x W x H]\n",
    "        features = self.feature_extractor(x)    # features.size(): [B x 512 x W x H]\n",
    "        prediction = self.classifier(features)  # prediction.size(): [B x num_classes]\n",
    "\n",
    "        return prediction\n",
    "\n",
    "# Your function to load pretrained weights\n",
    "def load_pretrained_weights(cfg, model):\n",
    "    #custom_weights = cfg['starting_weights']\n",
    "    #state = torch.load(open(custom_weights, 'rb'), map_location='cpu')\n",
    "\n",
    "    # This is the line that means its gonna be ImageNet weights!\n",
    "    pretrained_dict = state['model']\n",
    "\n",
    "    model_dict = model.state_dict()\n",
    "    pretrained_dict = {k: v for k, v in pretrained_dict.items() if k in model_dict and k not in ['classifier.weight', 'classifier.bias']}\n",
    "    log = model.load_state_dict(pretrained_dict, strict=False)\n",
    "    assert log.missing_keys == ['classifier.weight', 'classifier.bias']\n",
    "    return model"
   ]
  },
  {
   "cell_type": "code",
   "execution_count": 4,
   "metadata": {},
   "outputs": [],
   "source": [
    "from torchvision.models import resnet"
   ]
  },
  {
   "cell_type": "code",
   "execution_count": 5,
   "metadata": {},
   "outputs": [
    {
     "name": "stderr",
     "output_type": "stream",
     "text": [
      "/home/ben/miniconda3/envs/simclr_pytorch_reefs/lib/python3.8/site-packages/torchvision/models/_utils.py:208: UserWarning: The parameter 'pretrained' is deprecated since 0.13 and may be removed in the future, please use 'weights' instead.\n",
      "  warnings.warn(\n",
      "/home/ben/miniconda3/envs/simclr_pytorch_reefs/lib/python3.8/site-packages/torchvision/models/_utils.py:223: UserWarning: Arguments other than a weight enum or `None` for 'weights' are deprecated since 0.13 and may be removed in the future. The current behavior is equivalent to passing `weights=ResNet50_Weights.IMAGENET1K_V1`. You can also use `weights=ResNet50_Weights.DEFAULT` to get the most up-to-date weights.\n",
      "  warnings.warn(msg)\n"
     ]
    }
   ],
   "source": [
    "# Initialize your model\n",
    "model_instance = CustomResNet50(cfg['num_classes'])\n",
    "\n",
    "# Load the pretrained weights\n",
    "#model_instance = load_pretrained_weights(cfg, model_instance)"
   ]
  },
  {
   "cell_type": "markdown",
   "metadata": {},
   "source": [
    "### Dataloader"
   ]
  },
  {
   "cell_type": "code",
   "execution_count": 6,
   "metadata": {},
   "outputs": [],
   "source": [
    "split = 'test_data'\n",
    "transform = False\n",
    "train_percent = 0.0\n",
    "device = torch.device('cuda' if torch.cuda.is_available() else 'cpu')\n",
    "\n",
    "#dataset = CTDataset_train(cfg, split=split, transform=transform, train_percent=train_percent)\n",
    "dataset_instance = CTDataset_test(cfg, split=split, transform=transform, train_percent=train_percent)"
   ]
  },
  {
   "cell_type": "code",
   "execution_count": 7,
   "metadata": {},
   "outputs": [],
   "source": [
    "def get_dataloader(cfg, split, transform, train_percent, batch_size, shuffle, num_workers):\n",
    "    \n",
    "    dataset = CTDataset_test(cfg, split, transform, train_percent)\n",
    "\n",
    "    dataloader = DataLoader(\n",
    "        dataset, \n",
    "        batch_size=batch_size,\n",
    "        num_workers=num_workers,\n",
    "        shuffle=shuffle\n",
    "    )\n",
    "\n",
    "    return dataloader\n",
    "\n",
    "sample_loader = get_dataloader(cfg, split, transform=False, train_percent = train_percent, batch_size=64, shuffle=False, num_workers=cfg['num_workers']) \n"
   ]
  },
  {
   "cell_type": "markdown",
   "metadata": {},
   "source": [
    "Does the below cell error? May need to restart kernel"
   ]
  },
  {
   "cell_type": "markdown",
   "metadata": {},
   "source": [
    "### Extract embeddings"
   ]
  },
  {
   "cell_type": "code",
   "execution_count": 8,
   "metadata": {},
   "outputs": [],
   "source": [
    "def extract_multiple_embeddings(model, dataloader, device):\n",
    "    model.eval()\n",
    "    model.to(device)  # move to GPU\n",
    "    all_embeddings = []\n",
    "    labels = []\n",
    "    \n",
    "    with torch.no_grad():\n",
    "        for i, (audio, classes) in enumerate(dataloader):\n",
    "            audio = audio.to(device)  # move to GPU\n",
    "            # The following line is changed to use feature_extractor\n",
    "            embeddings = model.feature_extractor(audio)  \n",
    "            all_embeddings.extend(embeddings.cpu().numpy())\n",
    "            labels.extend(classes.cpu().numpy())\n",
    "            \n",
    "    return all_embeddings, labels\n",
    "\n",
    "embeddings, labels = extract_multiple_embeddings(model_instance, sample_loader, device)\n"
   ]
  },
  {
   "cell_type": "markdown",
   "metadata": {},
   "source": [
    "### Save the embeddings"
   ]
  },
  {
   "cell_type": "code",
   "execution_count": 9,
   "metadata": {},
   "outputs": [],
   "source": [
    "# Assuming embeddings is your list of lists, each of 2048 features\n",
    "# And labels is your list of labels\n",
    "\n",
    "# Create a DataFrame\n",
    "df = pd.DataFrame(embeddings, columns=[f'Feature_{i+1}' for i in range(2048)])\n",
    "\n",
    "# Insert labels as the first column\n",
    "df.insert(0, 'Label', labels)\n",
    "\n",
    "# Save the DataFrame to CSV\n",
    "df.to_csv('raw_embeddings/' + 'ImageNet-' + cfg['test_dataset'][5:] + '-embeddings.csv', index=False)"
   ]
  },
  {
   "cell_type": "markdown",
   "metadata": {},
   "source": [
    "### PCA plot"
   ]
  },
  {
   "cell_type": "code",
   "execution_count": 10,
   "metadata": {},
   "outputs": [
    {
     "data": {
      "image/png": "[encoded data removed]",
      "text/plain": [
       "<Figure size 640x480 with 1 Axes>"
      ]
     },
     "metadata": {},
     "output_type": "display_data"
    }
   ],
   "source": [
    "from sklearn.decomposition import PCA\n",
    "import matplotlib.pyplot as plt\n",
    "import numpy as np\n",
    "\n",
    "# Convert embeddings to a NumPy array for easier manipulation\n",
    "embeddings = np.array(embeddings)\n",
    "\n",
    "# Initialize PCA and the X vector for dimensionality reduction\n",
    "pca = PCA(n_components=2)\n",
    "\n",
    "# Fit and transform the embeddings to get new 2D representations\n",
    "embeddings_pca = pca.fit_transform(embeddings)\n",
    "\n",
    "# Create a scatter plot\n",
    "classes = np.unique(labels)  # Extract unique labels to identify distinct classes\n",
    "for class_label in classes:\n",
    "    idx = np.where(np.array(labels) == class_label)  # Get index where class label is found\n",
    "    plt.scatter(embeddings_pca[idx, 0], embeddings_pca[idx, 1], label=f\"Class {class_label}\")\n",
    "\n",
    "plt.xlabel(\"Principal Component 1\")\n",
    "plt.ylabel(\"Principal Component 2\")\n",
    "plt.legend(loc=\"upper right\")\n",
    "plt.title(\"PCA Plot\")\n",
    "plt.show()"
   ]
  }
 ],
 "metadata": {
  "kernelspec": {
   "display_name": "simclr_pytorch_reefs",
   "language": "python",
   "name": "python3"
  },
  "language_info": {
   "codemirror_mode": {
    "name": "ipython",
    "version": 3
   },
   "file_extension": ".py",
   "mimetype": "text/x-python",
   "name": "python",
   "nbconvert_exporter": "python",
   "pygments_lexer": "ipython3",
   "version": "3.8.17"
  },
  "orig_nbformat": 4
 },
 "nbformat": 4,
 "nbformat_minor": 2
}
